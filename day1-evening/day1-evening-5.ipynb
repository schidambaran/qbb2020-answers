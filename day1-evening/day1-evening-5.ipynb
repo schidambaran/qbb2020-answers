{
 "cells": [
  {
   "cell_type": "markdown",
   "metadata": {},
   "source": [
    "# 5. Count number of reads that start their alignment on chromosome 2L between base 10000 and 20000 (inclusive)."
   ]
  },
  {
   "cell_type": "code",
   "execution_count": 1,
   "metadata": {},
   "outputs": [
    {
     "name": "stdout",
     "output_type": "stream",
     "text": [
      "7550 reads start their alignment between bases 10000 and 20000 on chromosome 2L.\n"
     ]
    }
   ],
   "source": [
    "# Initialize counter\n",
    "counter = 0\n",
    "\n",
    "# Iterate through SAM file\n",
    "with open(\"SRR072893.sam\", \"r\") as sam:\n",
    "\n",
    "    for line in sam:\n",
    "        \n",
    "        split_line = line.split()\n",
    "        \n",
    "        # Slice out starting position and chromosome\n",
    "        start = int(split_line[3])\n",
    "        chrom = str(split_line[2])\n",
    "        \n",
    "        # Check if starting position is between bases 10,000 and 20,000 and if read is on chromosome 2L\n",
    "        if (start >= 10000) and (start <= 20000) and (chrom == \"2L\"):\n",
    "            counter += 1\n",
    "\n",
    "print(\"{} reads start their alignment between bases 10000 and 20000 on chromosome 2L.\".format(counter))"
   ]
  }
 ],
 "metadata": {
  "kernelspec": {
   "display_name": "Python 3",
   "language": "python",
   "name": "python3"
  },
  "language_info": {
   "codemirror_mode": {
    "name": "ipython",
    "version": 3
   },
   "file_extension": ".py",
   "mimetype": "text/x-python",
   "name": "python",
   "nbconvert_exporter": "python",
   "pygments_lexer": "ipython3",
   "version": "3.6.10"
  }
 },
 "nbformat": 4,
 "nbformat_minor": 4
}
