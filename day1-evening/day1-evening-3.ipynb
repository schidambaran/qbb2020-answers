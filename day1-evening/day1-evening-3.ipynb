{
 "cells": [
  {
   "cell_type": "markdown",
   "metadata": {},
   "source": [
    "# 3. For the first 10 alignments, print just the column indicating which chromosome a given read aligns to."
   ]
  },
  {
   "cell_type": "code",
   "execution_count": 1,
   "metadata": {},
   "outputs": [
    {
     "name": "stdout",
     "output_type": "stream",
     "text": [
      "The read aligned to chromosome 2L.\n",
      "The read aligned to chromosome 2L.\n",
      "The read aligned to chromosome 2L.\n",
      "The read aligned to chromosome 2L.\n",
      "The read aligned to chromosome 2L.\n",
      "The read aligned to chromosome 2L.\n",
      "The read aligned to chromosome 2L.\n",
      "The read aligned to chromosome 2L.\n",
      "The read aligned to chromosome 2L.\n",
      "The read aligned to chromosome 2L.\n"
     ]
    }
   ],
   "source": [
    "# Open SAM file\n",
    "sam = open(\"SRR072893.sam\", \"r\")\n",
    "\n",
    "# Go through just the first ten lines of the file\n",
    "for i in range(10):\n",
    "    \n",
    "    # Read the ith line and print out just the chromosome\n",
    "    line = sam.readline()\n",
    "    chrom = line.split()[2]\n",
    "    print(\"The read aligned to chromosome {}.\".format(chrom))\n",
    "    \n",
    "# Close SAM file\n",
    "sam.close()"
   ]
  }
 ],
 "metadata": {
  "kernelspec": {
   "display_name": "Python 3",
   "language": "python",
   "name": "python3"
  },
  "language_info": {
   "codemirror_mode": {
    "name": "ipython",
    "version": 3
   },
   "file_extension": ".py",
   "mimetype": "text/x-python",
   "name": "python",
   "nbconvert_exporter": "python",
   "pygments_lexer": "ipython3",
   "version": "3.6.10"
  }
 },
 "nbformat": 4,
 "nbformat_minor": 4
}
