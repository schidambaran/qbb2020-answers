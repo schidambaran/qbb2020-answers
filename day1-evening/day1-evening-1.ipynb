{
 "cells": [
  {
   "cell_type": "markdown",
   "metadata": {},
   "source": [
    "# 1. Count number of alignments"
   ]
  },
  {
   "cell_type": "code",
   "execution_count": 1,
   "metadata": {},
   "outputs": [
    {
     "name": "stdout",
     "output_type": "stream",
     "text": [
      "There are 2000000 alignments in the SAM file.\n"
     ]
    }
   ],
   "source": [
    "# Initialize counter\n",
    "counter = 0\n",
    "\n",
    "# Iterate through SAM file\n",
    "with open(\"SRR072893.sam\", \"r\") as sam:\n",
    "\n",
    "    # At each line, increment the counter\n",
    "    for line in sam:\n",
    "        counter += 1\n",
    "        \n",
    "print(\"There are {} alignments in the SAM file.\".format(counter))"
   ]
  }
 ],
 "metadata": {
  "kernelspec": {
   "display_name": "Python 3",
   "language": "python",
   "name": "python3"
  },
  "language_info": {
   "codemirror_mode": {
    "name": "ipython",
    "version": 3
   },
   "file_extension": ".py",
   "mimetype": "text/x-python",
   "name": "python",
   "nbconvert_exporter": "python",
   "pygments_lexer": "ipython3",
   "version": "3.6.10"
  }
 },
 "nbformat": 4,
 "nbformat_minor": 4
}
