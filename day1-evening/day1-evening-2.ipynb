{
 "cells": [
  {
   "cell_type": "markdown",
   "metadata": {},
   "source": [
    "# 2. Count number of alignments that match perfectly to the genome"
   ]
  },
  {
   "cell_type": "code",
   "execution_count": 1,
   "metadata": {},
   "outputs": [
    {
     "name": "stdout",
     "output_type": "stream",
     "text": [
      "There are 1702765 perfect alignments in the SAM file.\n"
     ]
    }
   ],
   "source": [
    "# A perfect alignment should have an edit distance of 0 (there are no differences between the alignment \n",
    "# and the reference sequence). In a SAM file, this is marked by the NM tag (NM:i:0).\n",
    "\n",
    "# Initialize counter\n",
    "counter = 0\n",
    "\n",
    "# Iterate through SAM file\n",
    "with open(\"SRR072893.sam\", \"r\") as sam:\n",
    "\n",
    "    for line in sam:\n",
    "        \n",
    "        # Split line\n",
    "        split_line = line.split()\n",
    "        \n",
    "        # If edit distance of alignment is 0, increment counter\n",
    "        if \"NM:i:0\" in split_line:\n",
    "            counter += 1\n",
    "        \n",
    "print(\"There are {} perfect alignments in the SAM file.\".format(counter))"
   ]
  }
 ],
 "metadata": {
  "kernelspec": {
   "display_name": "Python 3",
   "language": "python",
   "name": "python3"
  },
  "language_info": {
   "codemirror_mode": {
    "name": "ipython",
    "version": 3
   },
   "file_extension": ".py",
   "mimetype": "text/x-python",
   "name": "python",
   "nbconvert_exporter": "python",
   "pygments_lexer": "ipython3",
   "version": "3.6.10"
  }
 },
 "nbformat": 4,
 "nbformat_minor": 4
}
