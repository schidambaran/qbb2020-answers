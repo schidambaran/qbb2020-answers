{
 "cells": [
  {
   "cell_type": "markdown",
   "metadata": {},
   "source": [
    "# 2. Count number of alignments that match perfectly to the genome"
   ]
  },
  {
   "cell_type": "code",
   "execution_count": 1,
   "metadata": {},
   "outputs": [
    {
     "name": "stdout",
     "output_type": "stream",
     "text": [
      "There are 1702765 prefect alignments in the SAM file.\n"
     ]
    }
   ],
   "source": [
    "# Perfect alignment = NM:i:0\n",
    "\n",
    "# Initialize counter\n",
    "counter = 0\n",
    "\n",
    "# Open SAM file\n",
    "with open(\"SRR072893.sam\", \"r\") as sam:\n",
    "\n",
    "    # Increment counter for every line\n",
    "    for line in sam:\n",
    "        \n",
    "        # Split line\n",
    "        split_line = line.split()\n",
    "        \n",
    "        if \"NM:i:0\" in split_line:\n",
    "            counter += 1\n",
    "        \n",
    "print(\"There are \" + str(counter) + \" prefect alignments in the SAM file.\")"
   ]
  }
 ],
 "metadata": {
  "kernelspec": {
   "display_name": "Python 3",
   "language": "python",
   "name": "python3"
  },
  "language_info": {
   "codemirror_mode": {
    "name": "ipython",
    "version": 3
   },
   "file_extension": ".py",
   "mimetype": "text/x-python",
   "name": "python",
   "nbconvert_exporter": "python",
   "pygments_lexer": "ipython3",
   "version": "3.6.10"
  }
 },
 "nbformat": 4,
 "nbformat_minor": 4
}
