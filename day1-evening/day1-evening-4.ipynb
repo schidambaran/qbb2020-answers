{
 "cells": [
  {
   "cell_type": "markdown",
   "metadata": {},
   "source": [
    "# 4. Calculate average MAPQ score across all reads."
   ]
  },
  {
   "cell_type": "code",
   "execution_count": 1,
   "metadata": {},
   "outputs": [
    {
     "name": "stdout",
     "output_type": "stream",
     "text": [
      "The average MAPQ score is 59.6407825.\n"
     ]
    }
   ],
   "source": [
    "# Initialize counters\n",
    "counter = 0\n",
    "total_mapq = 0\n",
    "\n",
    "# Open SAM file\n",
    "with open(\"SRR072893.sam\", \"r\") as sam:\n",
    "\n",
    "    for line in sam:\n",
    "        \n",
    "        # Count number of reads\n",
    "        counter += 1\n",
    "        \n",
    "        # Add up MAPQ scores\n",
    "        split_line = line.split()\n",
    "        total_mapq += float(split_line[4])\n",
    "\n",
    "print(\"The average MAPQ score is \" + str(total_mapq / counter) + \".\")"
   ]
  }
 ],
 "metadata": {
  "kernelspec": {
   "display_name": "Python 3",
   "language": "python",
   "name": "python3"
  },
  "language_info": {
   "codemirror_mode": {
    "name": "ipython",
    "version": 3
   },
   "file_extension": ".py",
   "mimetype": "text/x-python",
   "name": "python",
   "nbconvert_exporter": "python",
   "pygments_lexer": "ipython3",
   "version": "3.6.10"
  }
 },
 "nbformat": 4,
 "nbformat_minor": 4
}
