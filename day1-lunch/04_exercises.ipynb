{
 "cells": [
  {
   "cell_type": "markdown",
   "metadata": {},
   "source": [
    "## Exercise: Plot K4, K9, and K27 chromosome distributions on the same plot as subplots."
   ]
  },
  {
   "cell_type": "markdown",
   "metadata": {},
   "source": [
    "## Load packages"
   ]
  },
  {
   "cell_type": "code",
   "execution_count": 1,
   "metadata": {},
   "outputs": [],
   "source": [
    "import numpy as np\n",
    "import pandas as pd\n",
    "import matplotlib.pyplot as plt"
   ]
  },
  {
   "cell_type": "markdown",
   "metadata": {},
   "source": [
    "## Load data"
   ]
  },
  {
   "cell_type": "code",
   "execution_count": 2,
   "metadata": {},
   "outputs": [],
   "source": [
    "# Name columns\n",
    "bed_columns = [\"chr\", \"start\", \"end\"]\n",
    "\n",
    "# K4 data\n",
    "df_k4 = pd.read_table(\"/Users/cmdb/qbb2020/data/K4me3.bed\", names = bed_columns)\n",
    "\n",
    "# Add width information to data\n",
    "df_k4.loc[:, \"width\"] = df_k4.loc[:, \"end\"] - df_k4.loc[:, \"start\"]\n",
    "\n",
    "# K9 data\n",
    "df_k9 = pd.read_table(\"/Users/cmdb/qbb2020/data/K9me3.bed\", names = bed_columns)\n",
    "\n",
    "# Add width information to data\n",
    "df_k9.loc[:, \"width\"] = df_k9.loc[:, \"end\"] - df_k9.loc[:, \"start\"]\n",
    "\n",
    "# K27 data\n",
    "df_k27 = pd.read_table(\"/Users/cmdb/qbb2020/data/K27me3.bed\", names = bed_columns)\n",
    "\n",
    "# Add width information to data\n",
    "df_k27.loc[:, \"width\"] = df_k27.loc[:, \"end\"] - df_k27.loc[:, \"start\"]"
   ]
  }
 ],
 "metadata": {
  "kernelspec": {
   "display_name": "Python 3",
   "language": "python",
   "name": "python3"
  },
  "language_info": {
   "codemirror_mode": {
    "name": "ipython",
    "version": 3
   },
   "file_extension": ".py",
   "mimetype": "text/x-python",
   "name": "python",
   "nbconvert_exporter": "python",
   "pygments_lexer": "ipython3",
   "version": "3.6.10"
  }
 },
 "nbformat": 4,
 "nbformat_minor": 4
}
