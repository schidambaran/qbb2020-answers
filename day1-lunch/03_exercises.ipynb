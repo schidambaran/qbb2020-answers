{
 "cells": [
  {
   "cell_type": "markdown",
   "metadata": {},
   "source": [
    "## Exercise: Plot K4, K9, and K27 chromosome distributions on the same plot as subplots."
   ]
  },
  {
   "cell_type": "markdown",
   "metadata": {},
   "source": [
    "## Load packages"
   ]
  },
  {
   "cell_type": "code",
   "execution_count": 1,
   "metadata": {},
   "outputs": [],
   "source": [
    "import numpy as np\n",
    "import pandas as pd\n",
    "import matplotlib.pyplot as plt"
   ]
  },
  {
   "cell_type": "markdown",
   "metadata": {},
   "source": [
    "## Load data"
   ]
  },
  {
   "cell_type": "code",
   "execution_count": 2,
   "metadata": {},
   "outputs": [],
   "source": [
    "# Name columns\n",
    "bed_columns = [\"chr\", \"start\", \"end\"]\n",
    "\n",
    "# K4 data\n",
    "df_k4 = pd.read_table(\"/Users/cmdb/qbb2020/data/K4me3.bed\", names = bed_columns)\n",
    "\n",
    "# K9 data\n",
    "df_k9 = pd.read_table(\"/Users/cmdb/qbb2020/data/K9me3.bed\", names = bed_columns)\n",
    "\n",
    "# K27 data\n",
    "df_k27 = pd.read_table(\"/Users/cmdb/qbb2020/data/K27me3.bed\", names = bed_columns)"
   ]
  },
  {
   "cell_type": "markdown",
   "metadata": {},
   "source": [
    "### Sort all data"
   ]
  },
  {
   "cell_type": "code",
   "execution_count": 3,
   "metadata": {},
   "outputs": [],
   "source": [
    "# Get K4 chromosome distribution data\n",
    "chr_k4 = df_k4.loc[:,\"chr\"]\n",
    "chr_k4 = chr_k4.value_counts()\n",
    "\n",
    "# Sort K4 data alphanumerically\n",
    "chr_k4_index = list(chr_k4.index.sort_values())\n",
    "\n",
    "# Create new data frame for K4 data\n",
    "chr_k4_sort = pd.DataFrame(chr_k4, index = chr_k4_index)\n",
    "chr_k4_sort.index.name = 'chr_names'\n",
    "chr_k4_sort.reset_index(inplace = True)\n",
    "\n",
    "# Get K9 chromosome distribution data\n",
    "chr_k9 = df_k9.loc[:,\"chr\"]\n",
    "chr_k9 = chr_k9.value_counts()\n",
    "\n",
    "# Sort K9 data alphanumerically\n",
    "chr_k9_index = list(chr_k9.index.sort_values())\n",
    "\n",
    "# Create new data frame for K9 data\n",
    "chr_k9_sort = pd.DataFrame(chr_k9, index = chr_k9_index)\n",
    "chr_k9_sort.index.name = 'chr_names'\n",
    "chr_k9_sort.reset_index(inplace = True)\n",
    "\n",
    "# Get K27 chromosome distribution data\n",
    "chr_k27 = df_k27.loc[:,\"chr\"]\n",
    "chr_k27 = chr_k27.value_counts()\n",
    "\n",
    "# Sort K27 data alphanumerically\n",
    "chr_k27_index = list(chr_k27.index.sort_values())\n",
    "\n",
    "# Create new data frame for K27 data\n",
    "chr_k27_sort = pd.DataFrame(chr_k27, index = chr_k27_index)\n",
    "chr_k27_sort.index.name = 'chr_names'\n",
    "chr_k27_sort.reset_index(inplace = True)"
   ]
  },
  {
   "cell_type": "markdown",
   "metadata": {},
   "source": [
    "### Plot data"
   ]
  },
  {
   "cell_type": "code",
   "execution_count": 4,
   "metadata": {
    "scrolled": true
   },
   "outputs": [
    {
     "data": {
      "image/png": "[encoded data removed]",
      "text/plain": [
       "<Figure size 720x216 with 3 Axes>"
      ]
     },
     "metadata": {
      "needs_background": "light"
     },
     "output_type": "display_data"
    }
   ],
   "source": [
    "fig3 = plt.figure(figsize = (10.0, 3.0))\n",
    "\n",
    "axes1 = fig3.add_subplot(1, 3, 1)\n",
    "axes2 = fig3.add_subplot(1, 3, 2)\n",
    "axes3 = fig3.add_subplot(1, 3, 3)\n",
    "\n",
    "# Add bar plot for K4 data\n",
    "axes1.bar(chr_k4_sort[\"chr_names\"], chr_k4_sort[\"chr\"])\n",
    "axes1.set_title(\"K4 Chromosome Distribution\")\n",
    "axes1.set_xlabel(\"Chromosome\")\n",
    "axes1.set_ylabel(\"Frequency\")\n",
    "\n",
    "# Add bar plot for K9 data\n",
    "axes2.bar(chr_k9_sort[\"chr_names\"], chr_k9_sort[\"chr\"])\n",
    "axes2.set_title(\"K9 Chromosome Distribution\")\n",
    "axes2.set_xlabel(\"Chromosome\")\n",
    "axes2.set_ylabel(\"Frequency\")\n",
    "\n",
    "# Add bar plot for K27 data\n",
    "axes3.bar(chr_k27_sort[\"chr_names\"], chr_k27_sort[\"chr\"])\n",
    "axes3.set_title(\"K27 Chromosome Distribution\")\n",
    "axes3.set_xlabel(\"Chromosome\")\n",
    "axes3.set_ylabel(\"Frequency\")\n",
    "\n",
    "plt.tight_layout()\n",
    "plt.show()\n",
    "\n",
    "# Issue: Could not rotate x-axis text on all three plots\n",
    "# plt.xticks(rotation = 45) would rotate text only on last plot, and axes1.xticks(rotation = 45) \n",
    "# resulted in an error"
   ]
  }
 ],
 "metadata": {
  "kernelspec": {
   "display_name": "Python 3",
   "language": "python",
   "name": "python3"
  },
  "language_info": {
   "codemirror_mode": {
    "name": "ipython",
    "version": 3
   },
   "file_extension": ".py",
   "mimetype": "text/x-python",
   "name": "python",
   "nbconvert_exporter": "python",
   "pygments_lexer": "ipython3",
   "version": "3.6.10"
  }
 },
 "nbformat": 4,
 "nbformat_minor": 4
}
