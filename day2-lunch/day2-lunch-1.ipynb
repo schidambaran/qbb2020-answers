{
 "cells": [
  {
   "cell_type": "markdown",
   "metadata": {},
   "source": [
    "# 1. Mapping FlyBase genes to UniProt"
   ]
  },
  {
   "cell_type": "code",
   "execution_count": 1,
   "metadata": {},
   "outputs": [],
   "source": [
    "# Open fly mapping file\n",
    "fly = open(\"fly.txt\", \"r\")\n",
    "\n",
    "# Open output file\n",
    "output = open(\"fly_mapping.txt\", \"w\")\n",
    "output.write(\"flybase_id\\tuniprot_id\\n\")\n",
    "\n",
    "# Iterate through file\n",
    "for line in fly:\n",
    "    \n",
    "    # Check if line contains \"DROME\"\n",
    "    if line.find(\"DROME\") > -1:\n",
    "        \n",
    "        # Split line on whitespace\n",
    "        split_line = line.rstrip().split()\n",
    "        \n",
    "        # Ignore lines with missing information\n",
    "        if len(split_line) < 4:\n",
    "            continue\n",
    "            \n",
    "        # Write FlyBase ID and Uniprot ID to output file\n",
    "        output.write(\"{}\\t{}\\n\".format(split_line[-1], split_line[-2]))\n",
    "\n",
    "# Close files\n",
    "fly.close()\n",
    "output.close()"
   ]
  }
 ],
 "metadata": {
  "kernelspec": {
   "display_name": "Python 3",
   "language": "python",
   "name": "python3"
  },
  "language_info": {
   "codemirror_mode": {
    "name": "ipython",
    "version": 3
   },
   "file_extension": ".py",
   "mimetype": "text/x-python",
   "name": "python",
   "nbconvert_exporter": "python",
   "pygments_lexer": "ipython3",
   "version": "3.6.10"
  }
 },
 "nbformat": 4,
 "nbformat_minor": 4
}
